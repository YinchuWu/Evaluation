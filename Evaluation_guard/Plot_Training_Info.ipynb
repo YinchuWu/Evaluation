{
 "cells": [
  {
   "cell_type": "code",
   "execution_count": 4,
   "metadata": {
    "collapsed": true
   },
   "outputs": [],
   "source": [
    "# 解析模型训练时生成的\"*.log\"文件\n",
    "#（1）画出loss曲线\n",
    "#（2）画出lr变化曲线\n",
    "\n",
    "# 直接画在 Jupyter 上的图比较小，可以直接拷贝到本地上运行"
   ]
  },
  {
   "cell_type": "code",
   "execution_count": 1,
   "metadata": {
    "collapsed": true
   },
   "outputs": [],
   "source": [
    "import os\n",
    "import pdb\n",
    "import matplotlib.pyplot as plt"
   ]
  },
  {
   "cell_type": "code",
   "execution_count": 2,
   "metadata": {
    "collapsed": true
   },
   "outputs": [],
   "source": [
    "# working dir\n",
    "wd = '/mnt/lvmhdd/tanfulun/workspaces/Project/eval_yolo_detection'\n",
    "\n",
    "# 获取 *.log 文件路径\n",
    "training_log_file_path = os.path.join(wd,'results','logs','goodsid.log')\n",
    "\n",
    "# 读取文件信息\n",
    "lgf = open(training_log_file_path,'r')\n",
    "lines = lgf.readlines()\n",
    "lgf.close()"
   ]
  },
  {
   "cell_type": "code",
   "execution_count": 3,
   "metadata": {
    "collapsed": true
   },
   "outputs": [],
   "source": [
    "# information\n",
    "batch_num = 0\n",
    "batch_loss = 0\n",
    "avg_loss = 0\n",
    "lr = 0\n",
    "\n",
    "batch_num_list = []\n",
    "batch_loss_list = []\n",
    "avg_loss_list = []\n",
    "lr_list = []\n",
    "\n",
    "# parse info\n",
    "cnt = 0\n",
    "for line in lines:\n",
    "    cnt = cnt+1\n",
    "    if line[0] is '#':\n",
    "        info_list = line.strip().split(',')\n",
    "        batch_num = int(info_list[0].split(':')[1])\n",
    "        batch_loss = float(info_list[1].split(':')[1])\n",
    "        avg_loss = float(info_list[2].split(':')[1])\n",
    "        lr = float(info_list[3].split(':')[1])\n",
    "\n",
    "        #\n",
    "        batch_num_list.append(batch_num)\n",
    "        batch_loss_list.append(batch_loss)\n",
    "        avg_loss_list.append(avg_loss)\n",
    "        lr_list.append(lr)"
   ]
  },
  {
   "cell_type": "code",
   "execution_count": 4,
   "metadata": {},
   "outputs": [
    {
     "data": {
      "image/png": "[encoded data removed]",
      "text/plain": [
       "<matplotlib.figure.Figure at 0x5c1da10>"
      ]
     },
     "metadata": {},
     "output_type": "display_data"
    }
   ],
   "source": [
    "# plot\n",
    "fig,(ax1,ax2,ax3) = plt.subplots(3,1,sharex=True)\n",
    "\n",
    "ax1.set_ylabel('batch loss')\n",
    "ax1.plot(batch_loss_list)\n",
    "\n",
    "ax2.set_ylabel('avg loss')\n",
    "ax2.plot(avg_loss_list)\n",
    "\n",
    "ax3.set_ylabel('learning rate')\n",
    "ax3.plot(lr_list)\n",
    "\n",
    "#\n",
    "num = len(batch_num_list)\n",
    "xticks = range(0,num,1000)\n",
    "xticklabels = []\n",
    "for itm in xticks:\n",
    "    xticklabels.append(batch_num_list[itm])\n",
    "\n",
    "ax3.set_xticks(xticks)\n",
    "ax3.set_xticklabels(xticklabels)\n",
    "\n",
    "\n",
    "#plt.plot(batch_loss_list)\n",
    "plt.show()"
   ]
  },
  {
   "cell_type": "code",
   "execution_count": null,
   "metadata": {
    "collapsed": true
   },
   "outputs": [],
   "source": []
  },
  {
   "cell_type": "code",
   "execution_count": null,
   "metadata": {
    "collapsed": true
   },
   "outputs": [],
   "source": []
  }
 ],
 "metadata": {
  "kernelspec": {
   "display_name": "Python 3",
   "language": "python",
   "name": "python3"
  },
  "language_info": {
   "codemirror_mode": {
    "name": "ipython",
    "version": 3
   },
   "file_extension": ".py",
   "mimetype": "text/x-python",
   "name": "python",
   "nbconvert_exporter": "python",
   "pygments_lexer": "ipython3",
   "version": "3.6.4"
  }
 },
 "nbformat": 4,
 "nbformat_minor": 2
}
